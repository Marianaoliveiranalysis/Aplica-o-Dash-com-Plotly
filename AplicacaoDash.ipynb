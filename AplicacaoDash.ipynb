{
  "nbformat": 4,
  "nbformat_minor": 0,
  "metadata": {
    "colab": {
      "provenance": [],
      "authorship_tag": "ABX9TyOxqkaXXfiQRrFj+EebO+/4",
      "include_colab_link": true
    },
    "kernelspec": {
      "name": "python3",
      "display_name": "Python 3"
    },
    "language_info": {
      "name": "python"
    }
  },
  "cells": [
    {
      "cell_type": "markdown",
      "metadata": {
        "id": "view-in-github",
        "colab_type": "text"
      },
      "source": [
        "<a href=\"https://colab.research.google.com/github/Marianaoliveiranalysis/Aplica-o-Dash-com-Plotly/blob/main/AplicacaoDash.ipynb\" target=\"_parent\"><img src=\"https://colab.research.google.com/assets/colab-badge.svg\" alt=\"Open In Colab\"/></a>"
      ]
    },
    {
      "cell_type": "code",
      "execution_count": null,
      "metadata": {
        "colab": {
          "base_uri": "https://localhost:8080/",
          "height": 86
        },
        "id": "M3jufEkO0BIm",
        "outputId": "f2459d98-67d1-4456-90b1-d673738c95c1"
      },
      "outputs": [
        {
          "output_type": "stream",
          "name": "stdout",
          "text": [
            "Dash app running on:\n",
            "\u001b[31mWarning: This function may stop working due to changes in browser security.\n",
            "Try `serve_kernel_port_as_iframe` instead. \u001b[0m\n"
          ]
        },
        {
          "output_type": "display_data",
          "data": {
            "text/plain": [
              "<IPython.core.display.Javascript object>"
            ],
            "application/javascript": [
              "(async (port, path, text, element) => {\n",
              "    if (!google.colab.kernel.accessAllowed) {\n",
              "      return;\n",
              "    }\n",
              "    element.appendChild(document.createTextNode(''));\n",
              "    const url = await google.colab.kernel.proxyPort(port);\n",
              "    const anchor = document.createElement('a');\n",
              "    anchor.href = new URL(path, url).toString();\n",
              "    anchor.target = '_blank';\n",
              "    anchor.setAttribute('data-href', url + path);\n",
              "    anchor.textContent = text;\n",
              "    element.appendChild(anchor);\n",
              "  })(8050, \"/\", \"http://127.0.0.1:8050/\", window.element)"
            ]
          },
          "metadata": {}
        }
      ],
      "source": [
        "# instalar (uma vez por sessão)\n",
        "!pip install -qU dash\n",
        "\n",
        "from dash import Dash, dcc, html, jupyter_dash\n",
        "\n",
        "jupyter_dash.infer_jupyter_proxy_config()\n",
        "\n",
        "app = Dash(__name__)\n",
        "app.layout = html.Div(\"Hello World no Colab\")\n",
        "\n",
        "app.run(jupyter_mode=\"external\", port=8050)"
      ]
    },
    {
      "cell_type": "code",
      "source": [
        "import pandas as pd\n",
        "import dash\n",
        "from dash import dcc, html\n",
        "import plotly.express as px\n",
        "import matplotlib.pyplot as plt\n",
        "import seaborn as sns\n",
        "# Ler os dados\n",
        "df = pd.read_csv('/content/ecommerce_estatistica.csv', encoding='utf-8')"
      ],
      "metadata": {
        "id": "iJj68lId0QeR"
      },
      "execution_count": null,
      "outputs": []
    },
    {
      "cell_type": "code",
      "source": [
        "# preparar dados (garante tipos numéricos) ---\n",
        "df[\"Preço\"] = pd.to_numeric(df[\"Preço\"], errors=\"coerce\")\n",
        "df[\"Qtd_Vendidos\"] = pd.to_numeric(df[\"Qtd_Vendidos\"], errors=\"coerce\")\n"
      ],
      "metadata": {
        "id": "dgFPf7Uz0rf0"
      },
      "execution_count": null,
      "outputs": []
    },
    {
      "cell_type": "code",
      "source": [
        "# --- FIGURAS EM PLOTLY (SEM .show())\n",
        "\n",
        "# 1) Dispersão: Qtd_Vendidos vs Preço, colorindo por Marca\n",
        "\n",
        "\n",
        "fig_scatter = px.line(\n",
        "    df_sorted, x=\"Qtd_Vendidos\", y=\"Preço\", color=\"Marca\",\n",
        "    title=\"Quantidade Vendida vs Preço por Marca\",\n",
        "    labels={\"Qtd_Vendidos\": \"Quantidade Vendida\", \"Preço\": \"Preço (R$)\"},\n",
        "    markers=True\n",
        ")\n",
        "\n",
        "fig_scatter\n",
        "\n",
        "# 2) Histograma de Preços\n",
        "fig_hist = px.histogram(\n",
        "    df, x=\"Preço\", nbins=30, title=\"Distribuição de Preços\",\n",
        "    labels={\"Preço\":\"Preço (R$)\"}\n",
        ")\n",
        "fig_hist.update_layout(bargap=0.02)\n",
        "\n",
        "# 3) Pizza: Top 5 Marcas\n",
        "top5_marcas = df[\"Marca\"].value_counts().head(5).rename_axis(\"Marca\").reset_index(name=\"count\")\n",
        "fig_pie = px.pie(top5_marcas, names=\"Marca\", values=\"count\",\n",
        "                 title=\"Top 5 Marcas - Participação (%)\")\n",
        "\n",
        "# 4) Barras: contagem por Gênero\n",
        "cont_genero = df[\"Gênero\"].value_counts().rename_axis(\"Gênero\").reset_index(name=\"count\")\n",
        "fig_bar = px.bar(cont_genero, x=\"Gênero\", y=\"count\",\n",
        "                 title=\"Distribuição de Produtos por Gênero\",\n",
        "                 labels={\"count\":\"Quantidade\"})\n",
        "\n",
        "# 5) Densidade (contorno) de Preço\n",
        "fig_density = px.density_contour(df, x=\"Preço\", title=\"Densidade de Preços\")\n",
        "fig_density.update_traces(contours_coloring=\"fill\", contours_showlabels=True)\n",
        "\n",
        "# 6) Regressão: scatter + linha (precisa statsmodels)\n",
        "!pip -q install statsmodels\n",
        "fig_reg = px.scatter(\n",
        "    df, x=\"Preço\", y=\"Qtd_Vendidos\", opacity=0.5,\n",
        "    trendline=\"ols\",  # adiciona linha de tendência\n",
        "    title=\"Relação Preço x Quantidade Vendida (com tendência)\",\n",
        "    labels={\"Preço\":\"Preço (R$)\", \"Qtd_Vendidos\":\"Quantidade Vendida\"}\n",
        ")"
      ],
      "metadata": {
        "id": "oB1XhEOf0-pu"
      },
      "execution_count": null,
      "outputs": []
    },
    {
      "cell_type": "code",
      "source": [
        "# --- LAYOUT DO DASH (cada figura em um dcc.Graph) ---\n",
        "app.layout = html.Div(\n",
        "    [\n",
        "        html.H1(\"Dashboard - E-commerce\", style={\"textAlign\": \"center\", \"margin\":\"10px 0 20px\"}),\n",
        "\n",
        "        dcc.Graph(figure=fig_scatter),\n",
        "        dcc.Graph(figure=fig_hist),\n",
        "        dcc.Graph(figure=fig_pie),\n",
        "        dcc.Graph(figure=fig_bar),\n",
        "        dcc.Graph(figure=fig_density),\n",
        "        dcc.Graph(figure=fig_reg),\n",
        "    ],\n",
        "    style={\"maxWidth\":\"1200px\",\"margin\":\"0 auto\"}\n",
        ")\n"
      ],
      "metadata": {
        "id": "LNEULpOi1XJW"
      },
      "execution_count": null,
      "outputs": []
    }
  ]
}